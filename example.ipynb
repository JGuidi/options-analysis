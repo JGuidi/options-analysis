{
 "cells": [
  {
   "cell_type": "code",
   "execution_count": 1,
   "id": "3784b5f2",
   "metadata": {},
   "outputs": [],
   "source": [
    "from optionlib import EuropeanOption"
   ]
  },
  {
   "cell_type": "code",
   "execution_count": 2,
   "id": "e5577ea4",
   "metadata": {},
   "outputs": [],
   "source": [
    "S = 100\n",
    "K = 105\n",
    "r = 0.0\n",
    "sigma = 0.25\n",
    "T = 1"
   ]
  },
  {
   "cell_type": "code",
   "execution_count": 3,
   "id": "cd92d1ce",
   "metadata": {},
   "outputs": [],
   "source": [
    "call_opt = EuropeanOption(S=S, K=K, r=r, sigma=sigma, T=T, call=True)"
   ]
  },
  {
   "cell_type": "code",
   "execution_count": 4,
   "id": "847ad596",
   "metadata": {},
   "outputs": [
    {
     "name": "stdout",
     "output_type": "stream",
     "text": [
      "European call option:\n",
      "- Option price: 7.8888\n",
      "- Underlying price: 100\n",
      "- Strike price: 105\n",
      "- Interest rate: 0.00%\n",
      "- Volatility: 25.00%\n",
      "- Time to expiry: 1\n"
     ]
    }
   ],
   "source": [
    "call_opt.get_option_attributes()"
   ]
  },
  {
   "cell_type": "code",
   "execution_count": 5,
   "id": "8f941b89",
   "metadata": {},
   "outputs": [],
   "source": [
    "put_opt = EuropeanOption(S=S, K=K, r=r, sigma=sigma, T=T, call=False)"
   ]
  },
  {
   "cell_type": "code",
   "execution_count": 6,
   "id": "40f0db5d",
   "metadata": {},
   "outputs": [
    {
     "name": "stdout",
     "output_type": "stream",
     "text": [
      "European put option:\n",
      "- Option price: 12.8888\n",
      "- Underlying price: 100\n",
      "- Strike price: 105\n",
      "- Interest rate: 0.00%\n",
      "- Volatility: 25.00%\n",
      "- Time to expiry: 1\n"
     ]
    }
   ],
   "source": [
    "put_opt.get_option_attributes()"
   ]
  },
  {
   "cell_type": "code",
   "execution_count": null,
   "id": "b93c5139",
   "metadata": {},
   "outputs": [],
   "source": []
  }
 ],
 "metadata": {
  "kernelspec": {
   "display_name": "base",
   "language": "python",
   "name": "python3"
  },
  "language_info": {
   "codemirror_mode": {
    "name": "ipython",
    "version": 3
   },
   "file_extension": ".py",
   "mimetype": "text/x-python",
   "name": "python",
   "nbconvert_exporter": "python",
   "pygments_lexer": "ipython3",
   "version": "3.9.12"
  }
 },
 "nbformat": 4,
 "nbformat_minor": 5
}
